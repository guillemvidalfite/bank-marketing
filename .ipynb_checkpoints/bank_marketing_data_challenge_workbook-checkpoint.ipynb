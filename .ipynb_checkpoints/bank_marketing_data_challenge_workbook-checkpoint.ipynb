{
 "cells": [
  {
   "cell_type": "markdown",
   "id": "70d8ed50",
   "metadata": {},
   "source": [
    "## Bank Marketing Data Challenge"
   ]
  },
  {
   "cell_type": "markdown",
   "id": "0f97b449",
   "metadata": {},
   "source": [
    "### About Dataset\n",
    "\n",
    "#### Description\n",
    "The dataset provided is tied to the direct marketing campaigns of a banking institution. The campaigns were direct phone calls to the customer. The goal of the campaign was to get them to subscribe to a product. Often, more than one contact to the same customer was required before the goal was achieved.\n",
    "\n",
    "##### Client info\n",
    "1.\tage (numeric)\n",
    "2.\tjob : type of job (categorical: \"admin.\",\"unknown\",\"unemployed\",\"management\",\"housemaid\",\"entrepreneur\",\"student\",\n",
    "3.\t\"blue-collar\",\"self-employed\",\"retired\",\"technician\",\"services\") \n",
    "4.\tmarital : marital status (categorical: \"married\",\"divorced\",\"single\"; note: \"divorced\" means divorced or widowed)\n",
    "5.\teducation (categorical: \"unknown\",\"secondary\",\"primary\",\"tertiary\")\n",
    "6.\tdefault: has credit in default? (binary: \"yes\",\"no\")\n",
    "7.  balance: average yearly balance, in euros (numeric) \n",
    "8.\thousing: has a housing loan? (binary: \"yes\",\"no\")\n",
    "9.\tloan: has personal loan? (binary: \"yes\",\"no\")\n",
    "\n",
    "##### Info on last contact of the current campaign\n",
    "10.\tcontact: contact communication type (categorical: \"unknown\",\"telephone\",\"cellular\") \n",
    "11.\tday: last contact day of the month (numeric)\n",
    "12.\tmonth: last contact month of year (categorical: \"jan\", \"feb\", \"mar\", ..., \"nov\", \"dec\")\n",
    "13.\tduration: last contact duration, in seconds (numeric)\n",
    "\n",
    "##### Other data\n",
    "14.\tcampaign: number of contacts performed during this campaign and for this client (numeric, includes last contact)\n",
    "15.\tpdays: number of days that passed by after the client was last contacted from a previous campaign (numeric, -1 means client was not previously contacted)\n",
    "16.\tprevious: number of contacts performed before this campaign and for this client (numeric)\n",
    "17.\tpoutcome: outcome of the previous marketing campaign (categorical: \"unknown\",\"other\",\"failure\",\"success\")\n",
    "\n",
    "##### Output\n",
    "18.\ty - has the client subscribed to product? (binary: \"yes\",\"no\")\n",
    "\n",
    "##### Data location: https://drive.google.com/file/d/1iN5zzbjrgT6n1eDDhaB9l3dBHRLgCsgt/view"
   ]
  },
  {
   "cell_type": "markdown",
   "id": "a3d2bfdf",
   "metadata": {},
   "source": [
    "### Instructions\n",
    "\n",
    "This is a timed challenge, please complete the submission within an hour, submit a Jupyter notebook and a html/pdf version with your code, text, and visualizations as your output.\n",
    "\n",
    "#####  <font color='purple'> Please look for hints in purple color through out the notebook </font>\n",
    "\n",
    "We want to understand how you think about problems, how you apply your technical skills and creativity to solve them. Please use relevant text explanations and visualizations to communicate your assumptions, interpretation and reasoning effectively. \n",
    "\n",
    "We expect that candidates proficient in Python, please note the time estimate is to do the minimum required here as there is always scope to go deeper. We are not expecting deep insights or perfect solutions, given the time constraint. Pace yourself with that in mind. You are welcome to spend additional hour if you are interested in going deeper to showcase your skills."
   ]
  },
  {
   "cell_type": "markdown",
   "id": "62843c7e",
   "metadata": {},
   "source": [
    "### Import Modules"
   ]
  },
  {
   "cell_type": "code",
   "execution_count": 1,
   "id": "4ca511b0",
   "metadata": {},
   "outputs": [],
   "source": [
    "### Some of the standard modules that you might want to import\n",
    "### Please import other packages that you would like to\n",
    "\n",
    "import warnings\n",
    "warnings.filterwarnings('ignore')\n",
    "\n",
    "import pandas as pd\n",
    "import numpy as np\n",
    "import collections\n",
    "import matplotlib.pyplot as plt\n",
    "import seaborn as sns\n",
    "\n",
    "from sklearn.model_selection import train_test_split\n",
    "from sklearn import preprocessing\n",
    "from sklearn.metrics import roc_auc_score\n",
    "from sklearn.metrics import precision_recall_curve\n",
    "from sklearn.metrics import auc\n",
    "import xgboost"
   ]
  },
  {
   "cell_type": "markdown",
   "id": "50dcdf49",
   "metadata": {},
   "source": [
    "### Read in data"
   ]
  },
  {
   "cell_type": "code",
   "execution_count": 2,
   "id": "d0317b17",
   "metadata": {
    "scrolled": true
   },
   "outputs": [
    {
     "data": {
      "text/html": [
       "<div>\n",
       "<style scoped>\n",
       "    .dataframe tbody tr th:only-of-type {\n",
       "        vertical-align: middle;\n",
       "    }\n",
       "\n",
       "    .dataframe tbody tr th {\n",
       "        vertical-align: top;\n",
       "    }\n",
       "\n",
       "    .dataframe thead th {\n",
       "        text-align: right;\n",
       "    }\n",
       "</style>\n",
       "<table border=\"1\" class=\"dataframe\">\n",
       "  <thead>\n",
       "    <tr style=\"text-align: right;\">\n",
       "      <th></th>\n",
       "      <th>age</th>\n",
       "      <th>job</th>\n",
       "      <th>marital</th>\n",
       "      <th>education</th>\n",
       "      <th>default</th>\n",
       "      <th>balance</th>\n",
       "      <th>housing</th>\n",
       "      <th>loan</th>\n",
       "      <th>contact</th>\n",
       "      <th>day</th>\n",
       "      <th>month</th>\n",
       "      <th>duration</th>\n",
       "      <th>campaign</th>\n",
       "      <th>pdays</th>\n",
       "      <th>previous</th>\n",
       "      <th>poutcome</th>\n",
       "      <th>y</th>\n",
       "    </tr>\n",
       "  </thead>\n",
       "  <tbody>\n",
       "    <tr>\n",
       "      <th>0</th>\n",
       "      <td>58</td>\n",
       "      <td>management</td>\n",
       "      <td>married</td>\n",
       "      <td>tertiary</td>\n",
       "      <td>no</td>\n",
       "      <td>2143</td>\n",
       "      <td>yes</td>\n",
       "      <td>no</td>\n",
       "      <td>unknown</td>\n",
       "      <td>5</td>\n",
       "      <td>may</td>\n",
       "      <td>261</td>\n",
       "      <td>1</td>\n",
       "      <td>-1</td>\n",
       "      <td>0</td>\n",
       "      <td>unknown</td>\n",
       "      <td>no</td>\n",
       "    </tr>\n",
       "    <tr>\n",
       "      <th>1</th>\n",
       "      <td>44</td>\n",
       "      <td>technician</td>\n",
       "      <td>single</td>\n",
       "      <td>secondary</td>\n",
       "      <td>no</td>\n",
       "      <td>29</td>\n",
       "      <td>yes</td>\n",
       "      <td>no</td>\n",
       "      <td>unknown</td>\n",
       "      <td>5</td>\n",
       "      <td>may</td>\n",
       "      <td>151</td>\n",
       "      <td>1</td>\n",
       "      <td>-1</td>\n",
       "      <td>0</td>\n",
       "      <td>unknown</td>\n",
       "      <td>no</td>\n",
       "    </tr>\n",
       "    <tr>\n",
       "      <th>2</th>\n",
       "      <td>33</td>\n",
       "      <td>entrepreneur</td>\n",
       "      <td>married</td>\n",
       "      <td>secondary</td>\n",
       "      <td>no</td>\n",
       "      <td>2</td>\n",
       "      <td>yes</td>\n",
       "      <td>yes</td>\n",
       "      <td>unknown</td>\n",
       "      <td>5</td>\n",
       "      <td>may</td>\n",
       "      <td>76</td>\n",
       "      <td>1</td>\n",
       "      <td>-1</td>\n",
       "      <td>0</td>\n",
       "      <td>unknown</td>\n",
       "      <td>no</td>\n",
       "    </tr>\n",
       "    <tr>\n",
       "      <th>3</th>\n",
       "      <td>47</td>\n",
       "      <td>blue-collar</td>\n",
       "      <td>married</td>\n",
       "      <td>unknown</td>\n",
       "      <td>no</td>\n",
       "      <td>1506</td>\n",
       "      <td>yes</td>\n",
       "      <td>no</td>\n",
       "      <td>unknown</td>\n",
       "      <td>5</td>\n",
       "      <td>may</td>\n",
       "      <td>92</td>\n",
       "      <td>1</td>\n",
       "      <td>-1</td>\n",
       "      <td>0</td>\n",
       "      <td>unknown</td>\n",
       "      <td>no</td>\n",
       "    </tr>\n",
       "    <tr>\n",
       "      <th>4</th>\n",
       "      <td>33</td>\n",
       "      <td>unknown</td>\n",
       "      <td>single</td>\n",
       "      <td>unknown</td>\n",
       "      <td>no</td>\n",
       "      <td>1</td>\n",
       "      <td>no</td>\n",
       "      <td>no</td>\n",
       "      <td>unknown</td>\n",
       "      <td>5</td>\n",
       "      <td>may</td>\n",
       "      <td>198</td>\n",
       "      <td>1</td>\n",
       "      <td>-1</td>\n",
       "      <td>0</td>\n",
       "      <td>unknown</td>\n",
       "      <td>no</td>\n",
       "    </tr>\n",
       "  </tbody>\n",
       "</table>\n",
       "</div>"
      ],
      "text/plain": [
       "   age           job  marital  education default  balance housing loan  \\\n",
       "0   58    management  married   tertiary      no     2143     yes   no   \n",
       "1   44    technician   single  secondary      no       29     yes   no   \n",
       "2   33  entrepreneur  married  secondary      no        2     yes  yes   \n",
       "3   47   blue-collar  married    unknown      no     1506     yes   no   \n",
       "4   33       unknown   single    unknown      no        1      no   no   \n",
       "\n",
       "   contact  day month  duration  campaign  pdays  previous poutcome   y  \n",
       "0  unknown    5   may       261         1     -1         0  unknown  no  \n",
       "1  unknown    5   may       151         1     -1         0  unknown  no  \n",
       "2  unknown    5   may        76         1     -1         0  unknown  no  \n",
       "3  unknown    5   may        92         1     -1         0  unknown  no  \n",
       "4  unknown    5   may       198         1     -1         0  unknown  no  "
      ]
     },
     "execution_count": 2,
     "metadata": {},
     "output_type": "execute_result"
    }
   ],
   "source": [
    "# Read in data, show data types and data head\n",
    "df = pd.read_csv('bank-full.csv', delimiter=';',index_col=None)\n",
    "df.head()"
   ]
  },
  {
   "cell_type": "code",
   "execution_count": 3,
   "id": "92948e9c",
   "metadata": {},
   "outputs": [
    {
     "data": {
      "text/html": [
       "<div>\n",
       "<style scoped>\n",
       "    .dataframe tbody tr th:only-of-type {\n",
       "        vertical-align: middle;\n",
       "    }\n",
       "\n",
       "    .dataframe tbody tr th {\n",
       "        vertical-align: top;\n",
       "    }\n",
       "\n",
       "    .dataframe thead th {\n",
       "        text-align: right;\n",
       "    }\n",
       "</style>\n",
       "<table border=\"1\" class=\"dataframe\">\n",
       "  <thead>\n",
       "    <tr style=\"text-align: right;\">\n",
       "      <th></th>\n",
       "      <th>age</th>\n",
       "      <th>job</th>\n",
       "      <th>marital</th>\n",
       "      <th>education</th>\n",
       "      <th>default</th>\n",
       "      <th>balance</th>\n",
       "      <th>housing</th>\n",
       "      <th>loan</th>\n",
       "      <th>contact</th>\n",
       "      <th>day</th>\n",
       "      <th>month</th>\n",
       "      <th>duration</th>\n",
       "      <th>campaign</th>\n",
       "      <th>pdays</th>\n",
       "      <th>previous</th>\n",
       "      <th>poutcome</th>\n",
       "      <th>y</th>\n",
       "    </tr>\n",
       "  </thead>\n",
       "  <tbody>\n",
       "    <tr>\n",
       "      <th>0</th>\n",
       "      <td>58</td>\n",
       "      <td>management</td>\n",
       "      <td>married</td>\n",
       "      <td>tertiary</td>\n",
       "      <td>no</td>\n",
       "      <td>2143</td>\n",
       "      <td>yes</td>\n",
       "      <td>no</td>\n",
       "      <td>unknown</td>\n",
       "      <td>5</td>\n",
       "      <td>may</td>\n",
       "      <td>261</td>\n",
       "      <td>1</td>\n",
       "      <td>-1</td>\n",
       "      <td>0</td>\n",
       "      <td>unknown</td>\n",
       "      <td>no</td>\n",
       "    </tr>\n",
       "    <tr>\n",
       "      <th>1</th>\n",
       "      <td>44</td>\n",
       "      <td>technician</td>\n",
       "      <td>single</td>\n",
       "      <td>secondary</td>\n",
       "      <td>no</td>\n",
       "      <td>29</td>\n",
       "      <td>yes</td>\n",
       "      <td>no</td>\n",
       "      <td>unknown</td>\n",
       "      <td>5</td>\n",
       "      <td>may</td>\n",
       "      <td>151</td>\n",
       "      <td>1</td>\n",
       "      <td>-1</td>\n",
       "      <td>0</td>\n",
       "      <td>unknown</td>\n",
       "      <td>no</td>\n",
       "    </tr>\n",
       "    <tr>\n",
       "      <th>2</th>\n",
       "      <td>33</td>\n",
       "      <td>entrepreneur</td>\n",
       "      <td>married</td>\n",
       "      <td>secondary</td>\n",
       "      <td>no</td>\n",
       "      <td>2</td>\n",
       "      <td>yes</td>\n",
       "      <td>yes</td>\n",
       "      <td>unknown</td>\n",
       "      <td>5</td>\n",
       "      <td>may</td>\n",
       "      <td>76</td>\n",
       "      <td>1</td>\n",
       "      <td>-1</td>\n",
       "      <td>0</td>\n",
       "      <td>unknown</td>\n",
       "      <td>no</td>\n",
       "    </tr>\n",
       "    <tr>\n",
       "      <th>3</th>\n",
       "      <td>47</td>\n",
       "      <td>blue-collar</td>\n",
       "      <td>married</td>\n",
       "      <td>unknown</td>\n",
       "      <td>no</td>\n",
       "      <td>1506</td>\n",
       "      <td>yes</td>\n",
       "      <td>no</td>\n",
       "      <td>unknown</td>\n",
       "      <td>5</td>\n",
       "      <td>may</td>\n",
       "      <td>92</td>\n",
       "      <td>1</td>\n",
       "      <td>-1</td>\n",
       "      <td>0</td>\n",
       "      <td>unknown</td>\n",
       "      <td>no</td>\n",
       "    </tr>\n",
       "    <tr>\n",
       "      <th>4</th>\n",
       "      <td>33</td>\n",
       "      <td>unknown</td>\n",
       "      <td>single</td>\n",
       "      <td>unknown</td>\n",
       "      <td>no</td>\n",
       "      <td>1</td>\n",
       "      <td>no</td>\n",
       "      <td>no</td>\n",
       "      <td>unknown</td>\n",
       "      <td>5</td>\n",
       "      <td>may</td>\n",
       "      <td>198</td>\n",
       "      <td>1</td>\n",
       "      <td>-1</td>\n",
       "      <td>0</td>\n",
       "      <td>unknown</td>\n",
       "      <td>no</td>\n",
       "    </tr>\n",
       "  </tbody>\n",
       "</table>\n",
       "</div>"
      ],
      "text/plain": [
       "   age           job  marital  education default  balance housing loan  \\\n",
       "0   58    management  married   tertiary      no     2143     yes   no   \n",
       "1   44    technician   single  secondary      no       29     yes   no   \n",
       "2   33  entrepreneur  married  secondary      no        2     yes  yes   \n",
       "3   47   blue-collar  married    unknown      no     1506     yes   no   \n",
       "4   33       unknown   single    unknown      no        1      no   no   \n",
       "\n",
       "   contact  day month  duration  campaign  pdays  previous poutcome   y  \n",
       "0  unknown    5   may       261         1     -1         0  unknown  no  \n",
       "1  unknown    5   may       151         1     -1         0  unknown  no  \n",
       "2  unknown    5   may        76         1     -1         0  unknown  no  \n",
       "3  unknown    5   may        92         1     -1         0  unknown  no  \n",
       "4  unknown    5   may       198         1     -1         0  unknown  no  "
      ]
     },
     "execution_count": 3,
     "metadata": {},
     "output_type": "execute_result"
    }
   ],
   "source": [
    "df.drop_duplicates()\n",
    "df.head()"
   ]
  },
  {
   "cell_type": "markdown",
   "id": "63406e55",
   "metadata": {},
   "source": [
    "### 1. Evaluate the performance of this campaign and describe the relationship between key factors and performance. The minimum expectation here is some simple analysis and visualizations followed by some discussion as needed."
   ]
  },
  {
   "cell_type": "code",
   "execution_count": 5,
   "id": "b72850ee",
   "metadata": {},
   "outputs": [
    {
     "name": "stdout",
     "output_type": "stream",
     "text": [
      "Success Rate for this campaign is 11.70%\n"
     ]
    }
   ],
   "source": [
    "### compute campaign success rate:\n",
    "success=df['y'].value_counts(normalize=True)\n",
    "print('Success Rate for this campaign is {:.2f}%'.format(( success['yes'])*100))"
   ]
  },
  {
   "cell_type": "markdown",
   "id": "b661082e",
   "metadata": {},
   "source": [
    "#### Primary measures of success of campaign\n",
    "The first measure of the campaign success is the number or proportion of successful subscriptions. The campaign had a 11.7% subscription rate."
   ]
  },
  {
   "cell_type": "markdown",
   "id": "89227868",
   "metadata": {},
   "source": [
    "###  Potential secondary success metrics for the campaign "
   ]
  },
  {
   "cell_type": "markdown",
   "id": "f9846049",
   "metadata": {},
   "source": [
    "A cost function could be defined to calculate the cost of the campaign for that particular customer together with the revenue the campaing produced (if it did produce any).\n",
    "\n",
    "For example if the campaign required 3 contacts to the customer that could mean 3 x 15mins dedication from an agent, we could estimate that cost to 90 USD and in the particular case the campaign was successful we could estimate the bank earned 1000 USD\n",
    "In this case there would be a cost of 90 USD with a revenue of 1000 USD producing a total campaign cost of -910 USD.\n",
    "\n",
    "Calculating such a KPI could be a secondary success metric closer to business.\n",
    "\n",
    "To calculate the global success of the campaign such KPI could be summed up for all campaign participants which would result in the calculated cost or revenue of the campaign."
   ]
  },
  {
   "cell_type": "markdown",
   "id": "c921dc79",
   "metadata": {},
   "source": [
    "### Explore data to understand distributions of both continuous and categorical fields and identify the biggest factor driving success"
   ]
  },
  {
   "cell_type": "code",
   "execution_count": 6,
   "id": "c6d6eaec",
   "metadata": {},
   "outputs": [
    {
     "data": {
      "text/html": [
       "<div>\n",
       "<style scoped>\n",
       "    .dataframe tbody tr th:only-of-type {\n",
       "        vertical-align: middle;\n",
       "    }\n",
       "\n",
       "    .dataframe tbody tr th {\n",
       "        vertical-align: top;\n",
       "    }\n",
       "\n",
       "    .dataframe thead th {\n",
       "        text-align: right;\n",
       "    }\n",
       "</style>\n",
       "<table border=\"1\" class=\"dataframe\">\n",
       "  <thead>\n",
       "    <tr style=\"text-align: right;\">\n",
       "      <th></th>\n",
       "      <th>age</th>\n",
       "      <th>balance</th>\n",
       "      <th>day</th>\n",
       "      <th>duration</th>\n",
       "      <th>campaign</th>\n",
       "      <th>pdays</th>\n",
       "      <th>previous</th>\n",
       "    </tr>\n",
       "  </thead>\n",
       "  <tbody>\n",
       "    <tr>\n",
       "      <th>count</th>\n",
       "      <td>45211.000000</td>\n",
       "      <td>45211.000000</td>\n",
       "      <td>45211.000000</td>\n",
       "      <td>45211.000000</td>\n",
       "      <td>45211.000000</td>\n",
       "      <td>45211.000000</td>\n",
       "      <td>45211.000000</td>\n",
       "    </tr>\n",
       "    <tr>\n",
       "      <th>mean</th>\n",
       "      <td>40.936210</td>\n",
       "      <td>1362.272058</td>\n",
       "      <td>15.806419</td>\n",
       "      <td>258.163080</td>\n",
       "      <td>2.763841</td>\n",
       "      <td>40.197828</td>\n",
       "      <td>0.580323</td>\n",
       "    </tr>\n",
       "    <tr>\n",
       "      <th>std</th>\n",
       "      <td>10.618762</td>\n",
       "      <td>3044.765829</td>\n",
       "      <td>8.322476</td>\n",
       "      <td>257.527812</td>\n",
       "      <td>3.098021</td>\n",
       "      <td>100.128746</td>\n",
       "      <td>2.303441</td>\n",
       "    </tr>\n",
       "    <tr>\n",
       "      <th>min</th>\n",
       "      <td>18.000000</td>\n",
       "      <td>-8019.000000</td>\n",
       "      <td>1.000000</td>\n",
       "      <td>0.000000</td>\n",
       "      <td>1.000000</td>\n",
       "      <td>-1.000000</td>\n",
       "      <td>0.000000</td>\n",
       "    </tr>\n",
       "    <tr>\n",
       "      <th>25%</th>\n",
       "      <td>33.000000</td>\n",
       "      <td>72.000000</td>\n",
       "      <td>8.000000</td>\n",
       "      <td>103.000000</td>\n",
       "      <td>1.000000</td>\n",
       "      <td>-1.000000</td>\n",
       "      <td>0.000000</td>\n",
       "    </tr>\n",
       "    <tr>\n",
       "      <th>50%</th>\n",
       "      <td>39.000000</td>\n",
       "      <td>448.000000</td>\n",
       "      <td>16.000000</td>\n",
       "      <td>180.000000</td>\n",
       "      <td>2.000000</td>\n",
       "      <td>-1.000000</td>\n",
       "      <td>0.000000</td>\n",
       "    </tr>\n",
       "    <tr>\n",
       "      <th>75%</th>\n",
       "      <td>48.000000</td>\n",
       "      <td>1428.000000</td>\n",
       "      <td>21.000000</td>\n",
       "      <td>319.000000</td>\n",
       "      <td>3.000000</td>\n",
       "      <td>-1.000000</td>\n",
       "      <td>0.000000</td>\n",
       "    </tr>\n",
       "    <tr>\n",
       "      <th>max</th>\n",
       "      <td>95.000000</td>\n",
       "      <td>102127.000000</td>\n",
       "      <td>31.000000</td>\n",
       "      <td>4918.000000</td>\n",
       "      <td>63.000000</td>\n",
       "      <td>871.000000</td>\n",
       "      <td>275.000000</td>\n",
       "    </tr>\n",
       "  </tbody>\n",
       "</table>\n",
       "</div>"
      ],
      "text/plain": [
       "                age        balance           day      duration      campaign  \\\n",
       "count  45211.000000   45211.000000  45211.000000  45211.000000  45211.000000   \n",
       "mean      40.936210    1362.272058     15.806419    258.163080      2.763841   \n",
       "std       10.618762    3044.765829      8.322476    257.527812      3.098021   \n",
       "min       18.000000   -8019.000000      1.000000      0.000000      1.000000   \n",
       "25%       33.000000      72.000000      8.000000    103.000000      1.000000   \n",
       "50%       39.000000     448.000000     16.000000    180.000000      2.000000   \n",
       "75%       48.000000    1428.000000     21.000000    319.000000      3.000000   \n",
       "max       95.000000  102127.000000     31.000000   4918.000000     63.000000   \n",
       "\n",
       "              pdays      previous  \n",
       "count  45211.000000  45211.000000  \n",
       "mean      40.197828      0.580323  \n",
       "std      100.128746      2.303441  \n",
       "min       -1.000000      0.000000  \n",
       "25%       -1.000000      0.000000  \n",
       "50%       -1.000000      0.000000  \n",
       "75%       -1.000000      0.000000  \n",
       "max      871.000000    275.000000  "
      ]
     },
     "execution_count": 6,
     "metadata": {},
     "output_type": "execute_result"
    }
   ],
   "source": [
    "df.describe()"
   ]
  },
  {
   "cell_type": "code",
   "execution_count": 7,
   "id": "c8bba9b6",
   "metadata": {},
   "outputs": [
    {
     "data": {
      "text/html": [
       "<div>\n",
       "<style scoped>\n",
       "    .dataframe tbody tr th:only-of-type {\n",
       "        vertical-align: middle;\n",
       "    }\n",
       "\n",
       "    .dataframe tbody tr th {\n",
       "        vertical-align: top;\n",
       "    }\n",
       "\n",
       "    .dataframe thead th {\n",
       "        text-align: right;\n",
       "    }\n",
       "</style>\n",
       "<table border=\"1\" class=\"dataframe\">\n",
       "  <thead>\n",
       "    <tr style=\"text-align: right;\">\n",
       "      <th></th>\n",
       "      <th>age</th>\n",
       "      <th>balance</th>\n",
       "      <th>day</th>\n",
       "      <th>duration</th>\n",
       "      <th>campaign</th>\n",
       "      <th>pdays</th>\n",
       "      <th>previous</th>\n",
       "    </tr>\n",
       "  </thead>\n",
       "  <tbody>\n",
       "    <tr>\n",
       "      <th>count</th>\n",
       "      <td>39922.000000</td>\n",
       "      <td>39922.000000</td>\n",
       "      <td>39922.000000</td>\n",
       "      <td>39922.000000</td>\n",
       "      <td>39922.000000</td>\n",
       "      <td>39922.000000</td>\n",
       "      <td>39922.000000</td>\n",
       "    </tr>\n",
       "    <tr>\n",
       "      <th>mean</th>\n",
       "      <td>40.838986</td>\n",
       "      <td>1303.714969</td>\n",
       "      <td>15.892290</td>\n",
       "      <td>221.182806</td>\n",
       "      <td>2.846350</td>\n",
       "      <td>36.421372</td>\n",
       "      <td>0.502154</td>\n",
       "    </tr>\n",
       "    <tr>\n",
       "      <th>std</th>\n",
       "      <td>10.172662</td>\n",
       "      <td>2974.195473</td>\n",
       "      <td>8.294728</td>\n",
       "      <td>207.383237</td>\n",
       "      <td>3.212767</td>\n",
       "      <td>96.757135</td>\n",
       "      <td>2.256771</td>\n",
       "    </tr>\n",
       "    <tr>\n",
       "      <th>min</th>\n",
       "      <td>18.000000</td>\n",
       "      <td>-8019.000000</td>\n",
       "      <td>1.000000</td>\n",
       "      <td>0.000000</td>\n",
       "      <td>1.000000</td>\n",
       "      <td>-1.000000</td>\n",
       "      <td>0.000000</td>\n",
       "    </tr>\n",
       "    <tr>\n",
       "      <th>25%</th>\n",
       "      <td>33.000000</td>\n",
       "      <td>58.000000</td>\n",
       "      <td>8.000000</td>\n",
       "      <td>95.000000</td>\n",
       "      <td>1.000000</td>\n",
       "      <td>-1.000000</td>\n",
       "      <td>0.000000</td>\n",
       "    </tr>\n",
       "    <tr>\n",
       "      <th>50%</th>\n",
       "      <td>39.000000</td>\n",
       "      <td>417.000000</td>\n",
       "      <td>16.000000</td>\n",
       "      <td>164.000000</td>\n",
       "      <td>2.000000</td>\n",
       "      <td>-1.000000</td>\n",
       "      <td>0.000000</td>\n",
       "    </tr>\n",
       "    <tr>\n",
       "      <th>75%</th>\n",
       "      <td>48.000000</td>\n",
       "      <td>1345.000000</td>\n",
       "      <td>21.000000</td>\n",
       "      <td>279.000000</td>\n",
       "      <td>3.000000</td>\n",
       "      <td>-1.000000</td>\n",
       "      <td>0.000000</td>\n",
       "    </tr>\n",
       "    <tr>\n",
       "      <th>max</th>\n",
       "      <td>95.000000</td>\n",
       "      <td>102127.000000</td>\n",
       "      <td>31.000000</td>\n",
       "      <td>4918.000000</td>\n",
       "      <td>63.000000</td>\n",
       "      <td>871.000000</td>\n",
       "      <td>275.000000</td>\n",
       "    </tr>\n",
       "  </tbody>\n",
       "</table>\n",
       "</div>"
      ],
      "text/plain": [
       "                age        balance           day      duration      campaign  \\\n",
       "count  39922.000000   39922.000000  39922.000000  39922.000000  39922.000000   \n",
       "mean      40.838986    1303.714969     15.892290    221.182806      2.846350   \n",
       "std       10.172662    2974.195473      8.294728    207.383237      3.212767   \n",
       "min       18.000000   -8019.000000      1.000000      0.000000      1.000000   \n",
       "25%       33.000000      58.000000      8.000000     95.000000      1.000000   \n",
       "50%       39.000000     417.000000     16.000000    164.000000      2.000000   \n",
       "75%       48.000000    1345.000000     21.000000    279.000000      3.000000   \n",
       "max       95.000000  102127.000000     31.000000   4918.000000     63.000000   \n",
       "\n",
       "              pdays      previous  \n",
       "count  39922.000000  39922.000000  \n",
       "mean      36.421372      0.502154  \n",
       "std       96.757135      2.256771  \n",
       "min       -1.000000      0.000000  \n",
       "25%       -1.000000      0.000000  \n",
       "50%       -1.000000      0.000000  \n",
       "75%       -1.000000      0.000000  \n",
       "max      871.000000    275.000000  "
      ]
     },
     "execution_count": 7,
     "metadata": {},
     "output_type": "execute_result"
    }
   ],
   "source": [
    "# run describe() for non-conversion cases\n",
    "df[df[\"y\"]=='no'].describe()"
   ]
  },
  {
   "cell_type": "code",
   "execution_count": 8,
   "id": "7b75ffd8",
   "metadata": {},
   "outputs": [
    {
     "data": {
      "text/html": [
       "<div>\n",
       "<style scoped>\n",
       "    .dataframe tbody tr th:only-of-type {\n",
       "        vertical-align: middle;\n",
       "    }\n",
       "\n",
       "    .dataframe tbody tr th {\n",
       "        vertical-align: top;\n",
       "    }\n",
       "\n",
       "    .dataframe thead th {\n",
       "        text-align: right;\n",
       "    }\n",
       "</style>\n",
       "<table border=\"1\" class=\"dataframe\">\n",
       "  <thead>\n",
       "    <tr style=\"text-align: right;\">\n",
       "      <th></th>\n",
       "      <th>age</th>\n",
       "      <th>balance</th>\n",
       "      <th>day</th>\n",
       "      <th>duration</th>\n",
       "      <th>campaign</th>\n",
       "      <th>pdays</th>\n",
       "      <th>previous</th>\n",
       "    </tr>\n",
       "  </thead>\n",
       "  <tbody>\n",
       "    <tr>\n",
       "      <th>count</th>\n",
       "      <td>5289.000000</td>\n",
       "      <td>5289.000000</td>\n",
       "      <td>5289.000000</td>\n",
       "      <td>5289.000000</td>\n",
       "      <td>5289.000000</td>\n",
       "      <td>5289.000000</td>\n",
       "      <td>5289.000000</td>\n",
       "    </tr>\n",
       "    <tr>\n",
       "      <th>mean</th>\n",
       "      <td>41.670070</td>\n",
       "      <td>1804.267915</td>\n",
       "      <td>15.158253</td>\n",
       "      <td>537.294574</td>\n",
       "      <td>2.141047</td>\n",
       "      <td>68.702968</td>\n",
       "      <td>1.170354</td>\n",
       "    </tr>\n",
       "    <tr>\n",
       "      <th>std</th>\n",
       "      <td>13.497781</td>\n",
       "      <td>3501.104777</td>\n",
       "      <td>8.501875</td>\n",
       "      <td>392.525262</td>\n",
       "      <td>1.921826</td>\n",
       "      <td>118.822266</td>\n",
       "      <td>2.553272</td>\n",
       "    </tr>\n",
       "    <tr>\n",
       "      <th>min</th>\n",
       "      <td>18.000000</td>\n",
       "      <td>-3058.000000</td>\n",
       "      <td>1.000000</td>\n",
       "      <td>8.000000</td>\n",
       "      <td>1.000000</td>\n",
       "      <td>-1.000000</td>\n",
       "      <td>0.000000</td>\n",
       "    </tr>\n",
       "    <tr>\n",
       "      <th>25%</th>\n",
       "      <td>31.000000</td>\n",
       "      <td>210.000000</td>\n",
       "      <td>8.000000</td>\n",
       "      <td>244.000000</td>\n",
       "      <td>1.000000</td>\n",
       "      <td>-1.000000</td>\n",
       "      <td>0.000000</td>\n",
       "    </tr>\n",
       "    <tr>\n",
       "      <th>50%</th>\n",
       "      <td>38.000000</td>\n",
       "      <td>733.000000</td>\n",
       "      <td>15.000000</td>\n",
       "      <td>426.000000</td>\n",
       "      <td>2.000000</td>\n",
       "      <td>-1.000000</td>\n",
       "      <td>0.000000</td>\n",
       "    </tr>\n",
       "    <tr>\n",
       "      <th>75%</th>\n",
       "      <td>50.000000</td>\n",
       "      <td>2159.000000</td>\n",
       "      <td>22.000000</td>\n",
       "      <td>725.000000</td>\n",
       "      <td>3.000000</td>\n",
       "      <td>98.000000</td>\n",
       "      <td>1.000000</td>\n",
       "    </tr>\n",
       "    <tr>\n",
       "      <th>max</th>\n",
       "      <td>95.000000</td>\n",
       "      <td>81204.000000</td>\n",
       "      <td>31.000000</td>\n",
       "      <td>3881.000000</td>\n",
       "      <td>32.000000</td>\n",
       "      <td>854.000000</td>\n",
       "      <td>58.000000</td>\n",
       "    </tr>\n",
       "  </tbody>\n",
       "</table>\n",
       "</div>"
      ],
      "text/plain": [
       "               age       balance          day     duration     campaign  \\\n",
       "count  5289.000000   5289.000000  5289.000000  5289.000000  5289.000000   \n",
       "mean     41.670070   1804.267915    15.158253   537.294574     2.141047   \n",
       "std      13.497781   3501.104777     8.501875   392.525262     1.921826   \n",
       "min      18.000000  -3058.000000     1.000000     8.000000     1.000000   \n",
       "25%      31.000000    210.000000     8.000000   244.000000     1.000000   \n",
       "50%      38.000000    733.000000    15.000000   426.000000     2.000000   \n",
       "75%      50.000000   2159.000000    22.000000   725.000000     3.000000   \n",
       "max      95.000000  81204.000000    31.000000  3881.000000    32.000000   \n",
       "\n",
       "             pdays     previous  \n",
       "count  5289.000000  5289.000000  \n",
       "mean     68.702968     1.170354  \n",
       "std     118.822266     2.553272  \n",
       "min      -1.000000     0.000000  \n",
       "25%      -1.000000     0.000000  \n",
       "50%      -1.000000     0.000000  \n",
       "75%      98.000000     1.000000  \n",
       "max     854.000000    58.000000  "
      ]
     },
     "execution_count": 8,
     "metadata": {},
     "output_type": "execute_result"
    }
   ],
   "source": [
    "# run describe() for conversion cases\n",
    "df[df[\"y\"]=='yes'].describe()"
   ]
  },
  {
   "cell_type": "code",
   "execution_count": 9,
   "id": "20ec9b22",
   "metadata": {},
   "outputs": [
    {
     "data": {
      "image/png": "[encoded data removed]",
      "text/plain": [
       "<Figure size 432x288 with 1 Axes>"
      ]
     },
     "metadata": {
      "needs_background": "light"
     },
     "output_type": "display_data"
    }
   ],
   "source": [
    "#### insight on job category vs conversion \n",
    "sns.histplot(data = df, x = 'age', hue = 'y',bins = 9)\n",
    "plt.title('Age Distribution')\n",
    "plt.show()"
   ]
  },
  {
   "cell_type": "markdown",
   "id": "802b2f2c",
   "metadata": {},
   "source": [
    "There isn't a clear distribution difference of age by subscribed vs unsubscribed. So I will break the age into a few buckets and look at the subscription rate of each bucket."
   ]
  },
  {
   "cell_type": "code",
   "execution_count": 10,
   "id": "28157241",
   "metadata": {},
   "outputs": [
    {
     "data": {
      "text/plain": [
       "<AxesSubplot:xlabel='age_bucket', ylabel='subscription_rate'>"
      ]
     },
     "execution_count": 10,
     "metadata": {},
     "output_type": "execute_result"
    },
    {
     "data": {
      "image/png": "[encoded data removed]",
      "text/plain": [
       "<Figure size 432x288 with 1 Axes>"
      ]
     },
     "metadata": {
      "needs_background": "light"
     },
     "output_type": "display_data"
    }
   ],
   "source": [
    "# break the age into different buckets: <30; 30-50; >50\n",
    "df.loc[df['age']<30,'age_bucket'] = '<30'\n",
    "df.loc[(df['age']>=30) & (df['age'] <40) ,'age_bucket'] = '30 to 40'\n",
    "df.loc[(df['age']>=40) & (df['age'] <50) ,'age_bucket'] = '40 to 50'\n",
    "df.loc[(df['age']>=50) ,'age_bucket'] = '>=50'\n",
    "\n",
    "# convert the values of y to 0 or 1\n",
    "df['y_int'] = np.where(df.y == 'yes',1,0)\n",
    "\n",
    "stats = pd.pivot_table(data=df, index = 'age_bucket', values = 'y_int', aggfunc=['count','mean']).reset_index()\n",
    "stats.columns = ['age_bucket','count','subscription_rate']\n",
    "sns.barplot(data=stats.sort_values(by='subscription_rate'),x='age_bucket',y='subscription_rate')"
   ]
  },
  {
   "cell_type": "markdown",
   "id": "30766015",
   "metadata": {},
   "source": [
    "The subscription rate of the group with age between 30 to 50 is much lower than that of people under 30 years old."
   ]
  },
  {
   "cell_type": "code",
   "execution_count": 10,
   "id": "a194317b",
   "metadata": {},
   "outputs": [
    {
     "data": {
      "image/png": "[encoded data removed]",
      "text/plain": [
       "<Figure size 1872x432 with 2 Axes>"
      ]
     },
     "metadata": {
      "needs_background": "light"
     },
     "output_type": "display_data"
    }
   ],
   "source": [
    "#### insight on job categgory vs conversion \n",
    "fig, ax = plt.subplots(nrows=1, ncols=2, figsize=(26, 6))\n",
    "sns.countplot(x='job', data=df, ax=ax[0])\n",
    "sns.barplot(x = 'job', y = 'y_int', data = df, ax = ax[1])\n",
    "ax[0].set_title('# clients by job', fontsize=12)\n",
    "ax[0].set_ylabel('clients')\n",
    "ax[1].set_title('Conversion by job', fontsize=12)\n",
    "plt.show()"
   ]
  },
  {
   "cell_type": "markdown",
   "id": "77eb3bb0",
   "metadata": {},
   "source": [
    "Students and retired people have the most conversion; while most of the clients being reached out are blue collars, management and technicians"
   ]
  },
  {
   "cell_type": "markdown",
   "id": "0ccd556c",
   "metadata": {},
   "source": [
    "###  Perform additional Exploratory analysis"
   ]
  },
  {
   "cell_type": "code",
   "execution_count": 11,
   "id": "2fce88b0",
   "metadata": {},
   "outputs": [
    {
     "data": {
      "image/png": "[encoded data removed]",
      "text/plain": [
       "<Figure size 1872x432 with 2 Axes>"
      ]
     },
     "metadata": {
      "needs_background": "light"
     },
     "output_type": "display_data"
    }
   ],
   "source": [
    "#### insight on marital vs conversion \n",
    "fig, ax = plt.subplots(nrows=1, ncols=2, figsize=(26, 6))\n",
    "sns.countplot(x='marital', data=df, ax=ax[0])\n",
    "sns.barplot(x = 'marital', y = 'y_int', data = df, ax = ax[1])\n",
    "ax[0].set_title('# clients by marital', fontsize=12)\n",
    "ax[0].set_ylabel('clients')\n",
    "ax[1].set_title('Conversion by marital', fontsize=12)\n",
    "plt.show()"
   ]
  },
  {
   "cell_type": "markdown",
   "id": "471ee4c2",
   "metadata": {},
   "source": [
    "Single customers have the most conversion while married were the most reached out"
   ]
  },
  {
   "cell_type": "code",
   "execution_count": 12,
   "id": "2ec233ed",
   "metadata": {},
   "outputs": [
    {
     "data": {
      "image/png": "[encoded data removed]",
      "text/plain": [
       "<Figure size 1872x432 with 2 Axes>"
      ]
     },
     "metadata": {
      "needs_background": "light"
     },
     "output_type": "display_data"
    }
   ],
   "source": [
    "#### insight on education vs conversion \n",
    "fig, ax = plt.subplots(nrows=1, ncols=2, figsize=(26, 6))\n",
    "sns.countplot(x='education', data=df, ax=ax[0])\n",
    "sns.barplot(x = 'education', y = 'y_int', data = df, ax = ax[1])\n",
    "ax[0].set_title('# clients by education', fontsize=12)\n",
    "ax[0].set_ylabel('clients')\n",
    "ax[1].set_title('Conversion by education', fontsize=12)\n",
    "plt.show()"
   ]
  },
  {
   "cell_type": "code",
   "execution_count": 13,
   "id": "80cca668",
   "metadata": {},
   "outputs": [
    {
     "data": {
      "image/png": "[encoded data removed]",
      "text/plain": [
       "<Figure size 432x288 with 1 Axes>"
      ]
     },
     "metadata": {
      "needs_background": "light"
     },
     "output_type": "display_data"
    }
   ],
   "source": [
    "#### insight on default vs conversion \n",
    "sns.histplot(data = df, x = 'default', hue = 'y',bins = 2)\n",
    "plt.title('Default Distribution')\n",
    "plt.show()"
   ]
  },
  {
   "cell_type": "code",
   "execution_count": 14,
   "id": "9a3e3042",
   "metadata": {},
   "outputs": [
    {
     "data": {
      "image/png": "[encoded data removed]",
      "text/plain": [
       "<Figure size 1872x432 with 2 Axes>"
      ]
     },
     "metadata": {
      "needs_background": "light"
     },
     "output_type": "display_data"
    }
   ],
   "source": [
    "#### insight on education vs conversion \n",
    "fig, ax = plt.subplots(nrows=1, ncols=2, figsize=(26, 6))\n",
    "sns.countplot(x='default', data=df, ax=ax[0])\n",
    "sns.barplot(x = 'default', y = 'y_int', data = df, ax = ax[1])\n",
    "ax[0].set_title('# clients by default', fontsize=12)\n",
    "ax[0].set_ylabel('clients')\n",
    "ax[1].set_title('Conversion by default', fontsize=12)\n",
    "plt.show()"
   ]
  },
  {
   "cell_type": "code",
   "execution_count": 15,
   "id": "c55a873e",
   "metadata": {},
   "outputs": [
    {
     "data": {
      "image/png": "[encoded data removed]",
      "text/plain": [
       "<Figure size 1872x432 with 2 Axes>"
      ]
     },
     "metadata": {
      "needs_background": "light"
     },
     "output_type": "display_data"
    }
   ],
   "source": [
    "#### insight on education vs conversion \n",
    "fig, ax = plt.subplots(nrows=1, ncols=2, figsize=(26, 6))\n",
    "sns.countplot(x='previous', data=df, ax=ax[0])\n",
    "sns.barplot(x = 'previous', y = 'y_int', data = df, ax = ax[1])\n",
    "ax[0].set_title('# clients by previous', fontsize=12)\n",
    "ax[0].set_ylabel('clients')\n",
    "ax[1].set_title('Conversion by previous', fontsize=12)\n",
    "plt.show()"
   ]
  },
  {
   "cell_type": "code",
   "execution_count": 22,
   "id": "f22f9590",
   "metadata": {},
   "outputs": [
    {
     "data": {
      "image/png": "[encoded data removed]",
      "text/plain": [
       "<Figure size 432x288 with 1 Axes>"
      ]
     },
     "metadata": {
      "needs_background": "light"
     },
     "output_type": "display_data"
    }
   ],
   "source": [
    "#### insight on last call duration vs conversion \n",
    "sns.histplot(data = df, x = 'duration', hue = 'y',bins = 25)\n",
    "plt.title('Duration Distribution')\n",
    "plt.show()"
   ]
  },
  {
   "cell_type": "markdown",
   "id": "f9664ec1",
   "metadata": {},
   "source": [
    "It seems the last call duration has a big impact to conversion, the longest the call the most conversion. This should be an important feature."
   ]
  },
  {
   "cell_type": "code",
   "execution_count": 24,
   "id": "5166ea79",
   "metadata": {},
   "outputs": [
    {
     "data": {
      "image/png": "[encoded data removed]",
      "text/plain": [
       "<Figure size 1872x432 with 2 Axes>"
      ]
     },
     "metadata": {
      "needs_background": "light"
     },
     "output_type": "display_data"
    }
   ],
   "source": [
    "#### insight on month vs conversion \n",
    "fig, ax = plt.subplots(nrows=1, ncols=2, figsize=(26, 6))\n",
    "sns.countplot(x='month', data=df, ax=ax[0])\n",
    "sns.barplot(x = 'month', y = 'y_int', data = df, ax = ax[1])\n",
    "ax[0].set_title('# clients by month', fontsize=12)\n",
    "ax[0].set_ylabel('clients')\n",
    "ax[1].set_title('Conversion by month', fontsize=12)\n",
    "plt.show()"
   ]
  },
  {
   "cell_type": "markdown",
   "id": "856bd1a7",
   "metadata": {},
   "source": [
    "Also it seems data distribution across months is far from being event, which accidentally brings more conversion to months where fewer calls were made. This feature could be deterministic and found important by models, however from my understanding it should not be useful in reality. We might want to consider removing it.\n",
    "\n",
    "Instead a \"time since last contact\" feature could be calculated and more useful."
   ]
  },
  {
   "cell_type": "code",
   "execution_count": null,
   "id": "054f45a5",
   "metadata": {},
   "outputs": [],
   "source": []
  },
  {
   "cell_type": "code",
   "execution_count": null,
   "id": "fa7dac9c",
   "metadata": {},
   "outputs": [],
   "source": []
  },
  {
   "cell_type": "markdown",
   "id": "84262698",
   "metadata": {},
   "source": [
    "### Build a baseline clissifcation Model"
   ]
  },
  {
   "cell_type": "code",
   "execution_count": 13,
   "id": "a1b15939",
   "metadata": {},
   "outputs": [],
   "source": [
    "# create binary y variable\n",
    "df_model = df.copy()\n",
    "df_model['y'] = [1 if y == 'yes' else 0 for y in df['y']]\n",
    "\n",
    "# baseline model to benchmark  performance and to check its feature importance\n",
    "\n",
    "features = ['age', 'balance', 'campaign', 'contact', 'day', 'default', 'duration', 'education',\n",
    "            'housing', 'job', 'loan', 'marital', 'month', 'pdays', 'poutcome', 'previous']\n",
    "\n",
    "target = 'y'\n",
    "\n",
    "# encode categorical variables for xgboost preprocessing\n",
    "lbl = preprocessing.LabelEncoder()\n",
    "for col in df_model.columns:\n",
    "    if df_model.dtypes[col] == 'object':\n",
    "        df_model[f'{col}_orig'] = df_model[col]\n",
    "        df_model[col] = lbl.fit_transform(df_model[col])\n",
    "\n",
    "\n",
    "X = df_model[features]\n",
    "y = df_model[target]\n",
    "\n",
    "X_train, X_test, y_train, y_test = train_test_split(X, y, test_size = 0.2)"
   ]
  },
  {
   "cell_type": "markdown",
   "id": "f2785efc",
   "metadata": {},
   "source": [
    "##### Run Model"
   ]
  },
  {
   "cell_type": "code",
   "execution_count": 16,
   "id": "6f7e9581",
   "metadata": {
    "scrolled": true
   },
   "outputs": [
    {
     "data": {
      "text/plain": [
       "XGBClassifier(base_score=0.5, booster='gbtree', callbacks=None,\n",
       "       colsample_bylevel=1, colsample_bynode=1, colsample_bytree=1,\n",
       "       early_stopping_rounds=None, enable_categorical=False,\n",
       "       eval_metric=['auc', 'aucpr'], gamma=0, gpu_id=-1,\n",
       "       grow_policy='depthwise', importance_type=None,\n",
       "       interaction_constraints='', learning_rate=0.300000012, max_bin=256,\n",
       "       max_cat_to_onehot=4, max_delta_step=0, max_depth=6, max_leaves=0,\n",
       "       min_child_weight=1, missing=nan, monotone_constraints='()',\n",
       "       n_estimators=100, n_jobs=0, num_parallel_tree=1,\n",
       "       objective='binary:logistic', predictor='auto', random_state=0,\n",
       "       reg_alpha=0, reg_lambda=1, sampling_method='uniform',\n",
       "       scale_pos_weight=1, subsample=1, tree_method='exact',\n",
       "       use_label_encoder=False, validate_parameters=1, verbosity=None)"
      ]
     },
     "execution_count": 16,
     "metadata": {},
     "output_type": "execute_result"
    }
   ],
   "source": [
    "# run XGBOOST\n",
    "model = xgboost.XGBClassifier(eval_metric=['auc','aucpr'], use_label_encoder=False)\n",
    "model.fit(X_train, \n",
    "          y_train, \n",
    "          early_stopping_rounds=10, \n",
    "          eval_set=[(X_train, y_train), (X_test, y_test)], \n",
    "          verbose=False)\n",
    "model"
   ]
  },
  {
   "cell_type": "code",
   "execution_count": null,
   "id": "e11227b1",
   "metadata": {},
   "outputs": [],
   "source": []
  }
 ],
 "metadata": {
  "kernelspec": {
   "display_name": "Python 3 (ipykernel)",
   "language": "python",
   "name": "python3"
  },
  "language_info": {
   "codemirror_mode": {
    "name": "ipython",
    "version": 3
   },
   "file_extension": ".py",
   "mimetype": "text/x-python",
   "name": "python",
   "nbconvert_exporter": "python",
   "pygments_lexer": "ipython3",
   "version": "3.9.12"
  }
 },
 "nbformat": 4,
 "nbformat_minor": 5
}
